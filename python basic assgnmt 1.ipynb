{
 "cells": [
  {
   "cell_type": "markdown",
   "metadata": {},
   "source": [
    "2 ANS: strings are immutable,once defined they cant be changed.Strings are written in double or single inverted commas\n",
    "        Variables are used to store data in python.\n",
    "        In the given example spam is a variable \"spam\" is a string"
   ]
  },
  {
   "cell_type": "markdown",
   "metadata": {},
   "source": [
    "3 ANS: data forms in python are 1.django form 2.html form 3.web form\n",
    "       django form is an advanced form of html form.html form is used to collect user input, it controls text fields,password fields,submit button etc. Web form is used for signing for new account"
   ]
  },
  {
   "cell_type": "markdown",
   "metadata": {},
   "source": [
    "4 ANS: An expression is a combination of operators ,variables.Expression need to be evaluated.expression is used to representation of values,expression are used to perform any operation,for example string is also an expression since it represents value of string\n"
   ]
  },
  {
   "cell_type": "markdown",
   "metadata": {},
   "source": [
    "5ANS:declaration is used to get the output or to execute .Expression is used to represent the value"
   ]
  },
  {
   "cell_type": "markdown",
   "metadata": {},
   "source": [
    "6 ANS: The values of bacon=23"
   ]
  },
  {
   "cell_type": "markdown",
   "metadata": {},
   "source": [
    "7 ANS: The following output for both the terms is 'spamspamspam'\n",
    "                                                   'spamspamspam'"
   ]
  },
  {
   "cell_type": "markdown",
   "metadata": {},
   "source": [
    "8 ANS:Variable name cannot begin with a number,it can start with a letter or underscore but not with a number"
   ]
  },
  {
   "cell_type": "markdown",
   "metadata": {},
   "source": [
    "9ANS:The int(),the float()and str() functions will evaluate to the integer,floating point number,and string versions of the value passed to them"
   ]
  },
  {
   "cell_type": "markdown",
   "metadata": {},
   "source": [
    "10 ANS: it can only concatinate on string not on 'int'.we can use string inste of using 'int'.'i have eaten'+'nintynine'+burritos\n"
   ]
  },
  {
   "cell_type": "markdown",
   "metadata": {},
   "source": []
  },
  {
   "cell_type": "code",
   "execution_count": null,
   "metadata": {},
   "outputs": [],
   "source": []
  }
 ],
 "metadata": {
  "kernelspec": {
   "display_name": "Python 3",
   "language": "python",
   "name": "python3"
  },
  "language_info": {
   "codemirror_mode": {
    "name": "ipython",
    "version": 3
   },
   "file_extension": ".py",
   "mimetype": "text/x-python",
   "name": "python",
   "nbconvert_exporter": "python",
   "pygments_lexer": "ipython3",
   "version": "3.8.5"
  }
 },
 "nbformat": 4,
 "nbformat_minor": 4
}
